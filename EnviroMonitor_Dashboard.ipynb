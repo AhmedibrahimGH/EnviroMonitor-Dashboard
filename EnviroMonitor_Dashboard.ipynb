{
  "cells": [
    {
      "cell_type": "code",
      "execution_count": null,
      "metadata": {
        "colab": {
          "base_uri": "https://localhost:8080/"
        },
        "id": "FbbrfRBxpae9",
        "outputId": "e64b439e-3df6-440f-a0e4-8e79ab23cfc4"
      },
      "outputs": [
        {
          "output_type": "stream",
          "name": "stdout",
          "text": [
            "Collecting streamlit\n",
            "  Downloading streamlit-1.39.0-py2.py3-none-any.whl.metadata (8.5 kB)\n",
            "Collecting pyngrok\n",
            "  Downloading pyngrok-7.2.0-py3-none-any.whl.metadata (7.4 kB)\n",
            "Requirement already satisfied: pandas in /usr/local/lib/python3.10/dist-packages (2.2.2)\n",
            "Requirement already satisfied: matplotlib in /usr/local/lib/python3.10/dist-packages (3.8.0)\n",
            "Requirement already satisfied: plotly in /usr/local/lib/python3.10/dist-packages (5.24.1)\n",
            "Requirement already satisfied: flask in /usr/local/lib/python3.10/dist-packages (2.2.5)\n",
            "Requirement already satisfied: altair<6,>=4.0 in /usr/local/lib/python3.10/dist-packages (from streamlit) (4.2.2)\n",
            "Requirement already satisfied: blinker<2,>=1.0.0 in /usr/lib/python3/dist-packages (from streamlit) (1.4)\n",
            "Requirement already satisfied: cachetools<6,>=4.0 in /usr/local/lib/python3.10/dist-packages (from streamlit) (5.5.0)\n",
            "Requirement already satisfied: click<9,>=7.0 in /usr/local/lib/python3.10/dist-packages (from streamlit) (8.1.7)\n",
            "Requirement already satisfied: numpy<3,>=1.20 in /usr/local/lib/python3.10/dist-packages (from streamlit) (1.26.4)\n",
            "Requirement already satisfied: packaging<25,>=20 in /usr/local/lib/python3.10/dist-packages (from streamlit) (24.1)\n",
            "Requirement already satisfied: pillow<11,>=7.1.0 in /usr/local/lib/python3.10/dist-packages (from streamlit) (10.4.0)\n",
            "Requirement already satisfied: protobuf<6,>=3.20 in /usr/local/lib/python3.10/dist-packages (from streamlit) (3.20.3)\n",
            "Requirement already satisfied: pyarrow>=7.0 in /usr/local/lib/python3.10/dist-packages (from streamlit) (17.0.0)\n",
            "Requirement already satisfied: requests<3,>=2.27 in /usr/local/lib/python3.10/dist-packages (from streamlit) (2.32.3)\n",
            "Requirement already satisfied: rich<14,>=10.14.0 in /usr/local/lib/python3.10/dist-packages (from streamlit) (13.9.3)\n",
            "Requirement already satisfied: tenacity<10,>=8.1.0 in /usr/local/lib/python3.10/dist-packages (from streamlit) (9.0.0)\n",
            "Requirement already satisfied: toml<2,>=0.10.1 in /usr/local/lib/python3.10/dist-packages (from streamlit) (0.10.2)\n",
            "Requirement already satisfied: typing-extensions<5,>=4.3.0 in /usr/local/lib/python3.10/dist-packages (from streamlit) (4.12.2)\n",
            "Requirement already satisfied: gitpython!=3.1.19,<4,>=3.0.7 in /usr/local/lib/python3.10/dist-packages (from streamlit) (3.1.43)\n",
            "Collecting pydeck<1,>=0.8.0b4 (from streamlit)\n",
            "  Downloading pydeck-0.9.1-py2.py3-none-any.whl.metadata (4.1 kB)\n",
            "Requirement already satisfied: tornado<7,>=6.0.3 in /usr/local/lib/python3.10/dist-packages (from streamlit) (6.3.3)\n",
            "Collecting watchdog<6,>=2.1.5 (from streamlit)\n",
            "  Downloading watchdog-5.0.3-py3-none-manylinux2014_x86_64.whl.metadata (41 kB)\n",
            "\u001b[2K     \u001b[90m━━━━━━━━━━━━━━━━━━━━━━━━━━━━━━━━━━━━━━━━\u001b[0m \u001b[32m41.9/41.9 kB\u001b[0m \u001b[31m1.7 MB/s\u001b[0m eta \u001b[36m0:00:00\u001b[0m\n",
            "\u001b[?25hRequirement already satisfied: PyYAML>=5.1 in /usr/local/lib/python3.10/dist-packages (from pyngrok) (6.0.2)\n",
            "Requirement already satisfied: python-dateutil>=2.8.2 in /usr/local/lib/python3.10/dist-packages (from pandas) (2.8.2)\n",
            "Requirement already satisfied: pytz>=2020.1 in /usr/local/lib/python3.10/dist-packages (from pandas) (2024.2)\n",
            "Requirement already satisfied: tzdata>=2022.7 in /usr/local/lib/python3.10/dist-packages (from pandas) (2024.2)\n",
            "Requirement already satisfied: contourpy>=1.0.1 in /usr/local/lib/python3.10/dist-packages (from matplotlib) (1.3.0)\n",
            "Requirement already satisfied: cycler>=0.10 in /usr/local/lib/python3.10/dist-packages (from matplotlib) (0.12.1)\n",
            "Requirement already satisfied: fonttools>=4.22.0 in /usr/local/lib/python3.10/dist-packages (from matplotlib) (4.54.1)\n",
            "Requirement already satisfied: kiwisolver>=1.0.1 in /usr/local/lib/python3.10/dist-packages (from matplotlib) (1.4.7)\n",
            "Requirement already satisfied: pyparsing>=2.3.1 in /usr/local/lib/python3.10/dist-packages (from matplotlib) (3.2.0)\n",
            "Requirement already satisfied: Werkzeug>=2.2.2 in /usr/local/lib/python3.10/dist-packages (from flask) (3.0.6)\n",
            "Requirement already satisfied: Jinja2>=3.0 in /usr/local/lib/python3.10/dist-packages (from flask) (3.1.4)\n",
            "Requirement already satisfied: itsdangerous>=2.0 in /usr/local/lib/python3.10/dist-packages (from flask) (2.2.0)\n",
            "Requirement already satisfied: entrypoints in /usr/local/lib/python3.10/dist-packages (from altair<6,>=4.0->streamlit) (0.4)\n",
            "Requirement already satisfied: jsonschema>=3.0 in /usr/local/lib/python3.10/dist-packages (from altair<6,>=4.0->streamlit) (4.23.0)\n",
            "Requirement already satisfied: toolz in /usr/local/lib/python3.10/dist-packages (from altair<6,>=4.0->streamlit) (0.12.1)\n",
            "Requirement already satisfied: gitdb<5,>=4.0.1 in /usr/local/lib/python3.10/dist-packages (from gitpython!=3.1.19,<4,>=3.0.7->streamlit) (4.0.11)\n",
            "Requirement already satisfied: MarkupSafe>=2.0 in /usr/local/lib/python3.10/dist-packages (from Jinja2>=3.0->flask) (3.0.2)\n",
            "Requirement already satisfied: six>=1.5 in /usr/local/lib/python3.10/dist-packages (from python-dateutil>=2.8.2->pandas) (1.16.0)\n",
            "Requirement already satisfied: charset-normalizer<4,>=2 in /usr/local/lib/python3.10/dist-packages (from requests<3,>=2.27->streamlit) (3.4.0)\n",
            "Requirement already satisfied: idna<4,>=2.5 in /usr/local/lib/python3.10/dist-packages (from requests<3,>=2.27->streamlit) (3.10)\n",
            "Requirement already satisfied: urllib3<3,>=1.21.1 in /usr/local/lib/python3.10/dist-packages (from requests<3,>=2.27->streamlit) (2.2.3)\n",
            "Requirement already satisfied: certifi>=2017.4.17 in /usr/local/lib/python3.10/dist-packages (from requests<3,>=2.27->streamlit) (2024.8.30)\n",
            "Requirement already satisfied: markdown-it-py>=2.2.0 in /usr/local/lib/python3.10/dist-packages (from rich<14,>=10.14.0->streamlit) (3.0.0)\n",
            "Requirement already satisfied: pygments<3.0.0,>=2.13.0 in /usr/local/lib/python3.10/dist-packages (from rich<14,>=10.14.0->streamlit) (2.18.0)\n",
            "Requirement already satisfied: smmap<6,>=3.0.1 in /usr/local/lib/python3.10/dist-packages (from gitdb<5,>=4.0.1->gitpython!=3.1.19,<4,>=3.0.7->streamlit) (5.0.1)\n",
            "Requirement already satisfied: attrs>=22.2.0 in /usr/local/lib/python3.10/dist-packages (from jsonschema>=3.0->altair<6,>=4.0->streamlit) (24.2.0)\n",
            "Requirement already satisfied: jsonschema-specifications>=2023.03.6 in /usr/local/lib/python3.10/dist-packages (from jsonschema>=3.0->altair<6,>=4.0->streamlit) (2024.10.1)\n",
            "Requirement already satisfied: referencing>=0.28.4 in /usr/local/lib/python3.10/dist-packages (from jsonschema>=3.0->altair<6,>=4.0->streamlit) (0.35.1)\n",
            "Requirement already satisfied: rpds-py>=0.7.1 in /usr/local/lib/python3.10/dist-packages (from jsonschema>=3.0->altair<6,>=4.0->streamlit) (0.20.0)\n",
            "Requirement already satisfied: mdurl~=0.1 in /usr/local/lib/python3.10/dist-packages (from markdown-it-py>=2.2.0->rich<14,>=10.14.0->streamlit) (0.1.2)\n",
            "Downloading streamlit-1.39.0-py2.py3-none-any.whl (8.7 MB)\n",
            "\u001b[2K   \u001b[90m━━━━━━━━━━━━━━━━━━━━━━━━━━━━━━━━━━━━━━━━\u001b[0m \u001b[32m8.7/8.7 MB\u001b[0m \u001b[31m40.8 MB/s\u001b[0m eta \u001b[36m0:00:00\u001b[0m\n",
            "\u001b[?25hDownloading pyngrok-7.2.0-py3-none-any.whl (22 kB)\n",
            "Downloading pydeck-0.9.1-py2.py3-none-any.whl (6.9 MB)\n",
            "\u001b[2K   \u001b[90m━━━━━━━━━━━━━━━━━━━━━━━━━━━━━━━━━━━━━━━━\u001b[0m \u001b[32m6.9/6.9 MB\u001b[0m \u001b[31m22.7 MB/s\u001b[0m eta \u001b[36m0:00:00\u001b[0m\n",
            "\u001b[?25hDownloading watchdog-5.0.3-py3-none-manylinux2014_x86_64.whl (79 kB)\n",
            "\u001b[2K   \u001b[90m━━━━━━━━━━━━━━━━━━━━━━━━━━━━━━━━━━━━━━━━\u001b[0m \u001b[32m79.3/79.3 kB\u001b[0m \u001b[31m4.3 MB/s\u001b[0m eta \u001b[36m0:00:00\u001b[0m\n",
            "\u001b[?25hInstalling collected packages: watchdog, pyngrok, pydeck, streamlit\n",
            "Successfully installed pydeck-0.9.1 pyngrok-7.2.0 streamlit-1.39.0 watchdog-5.0.3\n"
          ]
        }
      ],
      "source": [
        "!pip install streamlit pyngrok pandas matplotlib plotly flask\n"
      ]
    },
    {
      "cell_type": "code",
      "execution_count": null,
      "metadata": {
        "colab": {
          "base_uri": "https://localhost:8080/"
        },
        "id": "t5jAhpwNpkzr",
        "outputId": "00046a5e-df1a-4899-a52e-6829b2151ec0"
      },
      "outputs": [
        {
          "name": "stdout",
          "output_type": "stream",
          "text": [
            "Overwriting app.py\n"
          ]
        }
      ],
      "source": [
        "%%writefile app.py\n",
        "import streamlit as st\n",
        "import pandas as pd\n",
        "import random\n",
        "import plotly.express as px\n",
        "\n",
        "def generate_data():\n",
        "    return {\n",
        "        'timestamp': pd.Timestamp.now(),\n",
        "        'temperature': random.uniform(20.0, 30.0),\n",
        "        'humidity': random.uniform(30.0, 70.0),\n",
        "        'soil_moisture': random.uniform(300, 700),\n",
        "        'CO2': random.uniform(400, 5000)\n",
        "    }\n",
        "\n",
        "data = [generate_data() for _ in range(100)]\n",
        "df = pd.DataFrame(data)\n",
        "\n",
        "# Traffic light system for soil moisture\n",
        "def traffic_light(moisture):\n",
        "    if moisture < 350:\n",
        "        return 'red'\n",
        "    elif 350 <= moisture <= 450:\n",
        "        return 'yellow'\n",
        "    else:\n",
        "        return 'green'\n",
        "\n",
        "df['traffic_light'] = df['soil_moisture'].apply(traffic_light)\n",
        "\n",
        "st.title('EnviroMonitor Dashboard')\n",
        "\n",
        "# Summary Statistics\n",
        "st.write(\"### Summary Statistics\")\n",
        "\n",
        "col1, col2, col3 = st.columns(3)\n",
        "col1.metric(\"Min Temp\", f\"{df['temperature'].min():.2f} °C\")\n",
        "col2.metric(\"Max Temp\", f\"{df['temperature'].max():.2f} °C\")\n",
        "col3.metric(\"Avg Temp\", f\"{df['temperature'].mean():.2f} °C\")\n",
        "\n",
        "col1.metric(\"Min Humidity\", f\"{df['humidity'].min():.2f} %\")\n",
        "col2.metric(\"Max Humidity\", f\"{df['humidity'].max():.2f} %\")\n",
        "col3.metric(\"Avg Humidity\", f\"{df['humidity'].mean():.2f} %\")\n",
        "\n",
        "col1.metric(\"Min Soil Moisture\", f\"{df['soil_moisture'].min():.2f}\")\n",
        "col2.metric(\"Max Soil Moisture\", f\"{df['soil_moisture'].max():.2f}\")\n",
        "col3.metric(\"Avg Soil Moisture\", f\"{df['soil_moisture'].mean():.2f}\")\n",
        "\n",
        "col1.metric(\"Min CO2\", f\"{df['CO2'].min():.2f} ppm\")\n",
        "col2.metric(\"Max CO2\", f\"{df['CO2'].max():.2f} ppm\")\n",
        "col3.metric(\"Avg CO2\", f\"{df['CO2'].mean():.2f} ppm\")\n",
        "\n",
        "# Visualizations\n",
        "st.write(\"### Monthly Avg Temp & Avg of Avg Barometer (in)\")\n",
        "fig = px.bar(df, x='timestamp', y=['temperature', 'CO2'], barmode='group')\n",
        "st.plotly_chart(fig)\n",
        "\n",
        "st.write(\"### Sum Avg Dewpoint (°F) & Avg Humidity (%) by Avg Windspeed (MPH)\")\n",
        "fig = px.scatter(df, x='humidity', y='temperature', color='CO2', size='soil_moisture', hover_data=['timestamp'])\n",
        "st.plotly_chart(fig)\n",
        "\n",
        "st.write(\"### Yearly Avg of Max Heat Index (°F)\")\n",
        "fig = px.treemap(df, path=[px.Constant(\"all\"), 'timestamp'], values='temperature')\n",
        "st.plotly_chart(fig)\n",
        "\n",
        "st.write(\"### Avg of Diff_Pressure by Month\")\n",
        "fig = px.bar(df, x='temperature', y='timestamp', orientation='h')\n",
        "st.plotly_chart(fig)\n",
        "\n",
        "st.write(\"### Max Gust Speed (MPH) Avg\")\n",
        "fig = px.pie(df, values='CO2', names='timestamp')\n",
        "st.plotly_chart(fig)\n",
        "\n",
        "st.write(\"### Yearly Rainfall Sum for Month\")\n",
        "fig = px.bar(df, x='timestamp', y='humidity', color='temperature', labels={'humidity': 'Humidity (%)'})\n",
        "st.plotly_chart(fig)\n",
        "\n",
        "# Traffic Light Visualization\n",
        "st.write(\"### Soil Moisture Traffic Light\")\n",
        "fig = px.scatter(df, x='timestamp', y='soil_moisture', color='traffic_light', size='soil_moisture', color_discrete_map={'red':'red', 'yellow':'yellow', 'green':'green'})\n",
        "st.plotly_chart(fig)\n"
      ]
    },
    {
      "cell_type": "code",
      "execution_count": null,
      "metadata": {
        "colab": {
          "base_uri": "https://localhost:8080/"
        },
        "id": "clrYKFO6pnGH",
        "outputId": "0902a733-e536-43dd-d552-487dae1aa1d7"
      },
      "outputs": [
        {
          "name": "stdout",
          "output_type": "stream",
          "text": [
            "Overwriting server.py\n"
          ]
        }
      ],
      "source": [
        "%%writefile server.py\n",
        "from flask import Flask, request, jsonify\n",
        "import sqlite3\n",
        "from datetime import datetime\n",
        "\n",
        "app = Flask(__name__)\n",
        "\n",
        "def init_db():\n",
        "    conn = sqlite3.connect('data.db')\n",
        "    c = conn.cursor()\n",
        "    c.execute('''CREATE TABLE IF NOT EXISTS sensor_data\n",
        "                 (timestamp TEXT, temperature REAL, humidity REAL, soil_moisture REAL, CO2 REAL)''')\n",
        "    conn.commit()\n",
        "    conn.close()\n",
        "\n",
        "@app.route('/data', methods=['POST'])\n",
        "def receive_data():\n",
        "    data = request.json\n",
        "    conn = sqlite3.connect('data.db')\n",
        "    c = conn.cursor()\n",
        "    c.execute(\"INSERT INTO sensor_data VALUES (?, ?, ?, ?, ?)\",\n",
        "              (datetime.now(), data['temperature'], data['humidity'], data['soil_moisture'], data['CO2']))\n",
        "    conn.commit()\n",
        "    conn.close()\n",
        "    return jsonify({'status': 'Data received'}), 200\n",
        "\n",
        "if __name__ == '__main__':\n",
        "    init_db()\n",
        "    app.run(debug=False)  # Disable debug mode\n"
      ]
    },
    {
      "cell_type": "code",
      "execution_count": null,
      "metadata": {
        "id": "WbbHb1QFqH02"
      },
      "outputs": [],
      "source": [
        "from pyngrok import ngrok\n",
        "\n",
        "# Option 1: Set authtoken globally\n",
        "ngrok.set_auth_token(\"2o4xXT5hrPaGkeCYQheHKUK94FL_4bhGHikHRKKbbmiAoMK3Y\")\n"
      ]
    },
    {
      "cell_type": "code",
      "execution_count": null,
      "metadata": {
        "colab": {
          "base_uri": "https://localhost:8080/"
        },
        "id": "bFYKcDVvqwU3",
        "outputId": "d4be381f-4372-4920-efd2-4729e83efd93"
      },
      "outputs": [
        {
          "name": "stdout",
          "output_type": "stream",
          "text": [
            " * Serving Flask app 'server'\n",
            " * Debug mode: off\n",
            "Address already in use\n",
            "Port 5000 is in use by another program. Either identify and stop that program, or start the server with a different port.\n",
            "Flask server running on: https://34f1-34-34-13-43.ngrok-free.app\n"
          ]
        }
      ],
      "source": [
        "!python server.py &\n",
        "flask_tunnel = ngrok.connect(5000)\n",
        "print(\"Flask server running on:\", flask_tunnel.public_url)\n"
      ]
    },
    {
      "cell_type": "code",
      "execution_count": null,
      "metadata": {
        "colab": {
          "base_uri": "https://localhost:8080/"
        },
        "id": "XeRjOatvq6sl",
        "outputId": "12fab1aa-d155-4dc4-a763-29936a5b59fd"
      },
      "outputs": [
        {
          "name": "stdout",
          "output_type": "stream",
          "text": [
            "Streamlit app running on: https://c3a0-34-34-13-43.ngrok-free.app\n",
            "\n",
            "Collecting usage statistics. To deactivate, set browser.gatherUsageStats to false.\n",
            "\u001b[0m\n",
            "\u001b[0m\n",
            "\u001b[34m\u001b[1m  You can now view your Streamlit app in your browser.\u001b[0m\n",
            "\u001b[0m\n",
            "\u001b[34m  Local URL: \u001b[0m\u001b[1mhttp://localhost:8501\u001b[0m\n",
            "\u001b[34m  Network URL: \u001b[0m\u001b[1mhttp://172.28.0.12:8501\u001b[0m\n",
            "\u001b[34m  External URL: \u001b[0m\u001b[1mhttp://34.34.13.43:8501\u001b[0m\n",
            "\u001b[0m\n"
          ]
        }
      ],
      "source": [
        "\n",
        "streamlit_tunnel = ngrok.connect(8501)\n",
        "print(\"Streamlit app running on:\", streamlit_tunnel.public_url)\n",
        "!streamlit run app.py &\n"
      ]
    }
  ],
  "metadata": {
    "colab": {
      "provenance": []
    },
    "kernelspec": {
      "display_name": "Python 3",
      "name": "python3"
    },
    "language_info": {
      "name": "python"
    }
  },
  "nbformat": 4,
  "nbformat_minor": 0
}